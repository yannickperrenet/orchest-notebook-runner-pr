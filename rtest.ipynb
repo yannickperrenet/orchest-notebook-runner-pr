{
 "cells": [
  {
   "cell_type": "code",
   "execution_count": 1,
   "metadata": {
    "execution": {
     "iopub.execute_input": "2021-12-06T17:02:01.605929Z",
     "iopub.status.busy": "2021-12-06T17:02:01.604027Z",
     "iopub.status.idle": "2021-12-06T17:02:03.285318Z",
     "shell.execute_reply": "2021-12-06T17:02:03.284558Z"
    }
   },
   "outputs": [],
   "source": [
    "library(reticulate);\n",
    "python_path <- system(\"which python\", intern=TRUE);\n",
    "use_python(python_path);\n",
    "orchest <- import(\"orchest\");\n",
    "orchest$transfer$output(2, name=\"Test\");"
   ]
  },
  {
   "cell_type": "code",
   "execution_count": null,
   "metadata": {},
   "outputs": [],
   "source": []
  },
  {
   "cell_type": "code",
   "execution_count": null,
   "metadata": {},
   "outputs": [],
   "source": []
  },
  {
   "cell_type": "code",
   "execution_count": null,
   "metadata": {},
   "outputs": [],
   "source": []
  },
  {
   "cell_type": "code",
   "execution_count": null,
   "metadata": {},
   "outputs": [],
   "source": []
  },
  {
   "cell_type": "code",
   "execution_count": null,
   "metadata": {},
   "outputs": [],
   "source": []
  },
  {
   "cell_type": "code",
   "execution_count": null,
   "metadata": {},
   "outputs": [],
   "source": []
  }
 ],
 "metadata": {
  "kernelspec": {
   "display_name": "R",
   "language": "r",
   "name": "orchest-kernel-9c14c977-d5be-4c67-a26c-921f63e0eae3"
  },
  "language_info": {
   "codemirror_mode": "r",
   "file_extension": ".r",
   "mimetype": "text/x-r-source",
   "name": "R",
   "pygments_lexer": "r",
   "version": "3.6.3"
  }
 },
 "nbformat": 4,
 "nbformat_minor": 4
}
