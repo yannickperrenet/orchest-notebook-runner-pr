{
 "cells": [
  {
   "cell_type": "code",
   "execution_count": 1,
   "id": "1a7a4f7f-ffdf-4a62-ba04-451e93e4953a",
   "metadata": {
    "execution": {
     "iopub.execute_input": "2021-12-06T17:02:30.691262Z",
     "iopub.status.busy": "2021-12-06T17:02:30.690572Z",
     "iopub.status.idle": "2021-12-06T17:02:35.709015Z",
     "shell.execute_reply": "2021-12-06T17:02:35.710868Z"
    },
    "tags": []
   },
   "outputs": [
    {
     "name": "stdout",
     "output_type": "stream",
     "text": [
      "Hello world!\n"
     ]
    }
   ],
   "source": [
    "# If it fails immediately then we know the script never even ran.\n",
    "import time\n",
    "time.sleep(5)\n",
    "print(\"Hello world!\")"
   ]
  },
  {
   "cell_type": "code",
   "execution_count": 2,
   "id": "327276bb-0822-473b-a9fa-d4c711df0034",
   "metadata": {
    "execution": {
     "iopub.execute_input": "2021-12-06T17:02:35.756157Z",
     "iopub.status.busy": "2021-12-06T17:02:35.755603Z",
     "iopub.status.idle": "2021-12-06T17:02:36.682335Z",
     "shell.execute_reply": "2021-12-06T17:02:36.680120Z"
    },
    "tags": []
   },
   "outputs": [
    {
     "name": "stdout",
     "output_type": "stream",
     "text": [
      "Available kernels:\r\n",
      "  python3    /opt/conda/share/jupyter/kernels/python3\r\n"
     ]
    }
   ],
   "source": [
    "!jupyter kernelspec list"
   ]
  },
  {
   "cell_type": "code",
   "execution_count": null,
   "id": "4846aab8-363e-4b50-917e-5e59b54a7bd0",
   "metadata": {
    "tags": [
     "skip"
    ]
   },
   "outputs": [],
   "source": [
    "import sys\n",
    "\n",
    "print(sys.executable)\n",
    "assert sys.executable == \"/opt/conda/bin/python\"\n",
    "\n",
    "print(\"YES\")"
   ]
  },
  {
   "cell_type": "code",
   "execution_count": 3,
   "id": "21304944-15ac-48d0-b55d-7283cd915d43",
   "metadata": {
    "execution": {
     "iopub.execute_input": "2021-12-06T17:02:36.720125Z",
     "iopub.status.busy": "2021-12-06T17:02:36.719612Z",
     "iopub.status.idle": "2021-12-06T17:02:36.887771Z",
     "shell.execute_reply": "2021-12-06T17:02:36.886767Z"
    },
    "tags": []
   },
   "outputs": [],
   "source": [
    "# Try to import third party packages.\n",
    "import numpy\n",
    "import orchest\n",
    "\n",
    "orchest.output(\"NOPE\", name=None)"
   ]
  },
  {
   "cell_type": "code",
   "execution_count": null,
   "id": "5b3055bd-7b0f-449c-abc1-38eea5c829ab",
   "metadata": {},
   "outputs": [],
   "source": []
  }
 ],
 "metadata": {
  "kernelspec": {
   "display_name": "Python 3",
   "language": "python",
   "name": "orchest-kernel-5cb14c0e-0bf2-4e70-a24a-b90cd6318b98"
  },
  "language_info": {
   "codemirror_mode": {
    "name": "ipython",
    "version": 3
   },
   "file_extension": ".py",
   "mimetype": "text/x-python",
   "name": "python",
   "nbconvert_exporter": "python",
   "pygments_lexer": "ipython3",
   "version": "3.7.6"
  }
 },
 "nbformat": 4,
 "nbformat_minor": 5
}
